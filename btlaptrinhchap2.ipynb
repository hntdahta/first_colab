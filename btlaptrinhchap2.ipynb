{
  "nbformat": 4,
  "nbformat_minor": 0,
  "metadata": {
    "colab": {
      "name": "Untitled1.ipynb",
      "provenance": [],
      "authorship_tag": "ABX9TyNmT06KymW/uWoIu5ejwXy9",
      "include_colab_link": true
    },
    "kernelspec": {
      "name": "python3",
      "display_name": "Python 3"
    }
  },
  "cells": [
    {
      "cell_type": "markdown",
      "metadata": {
        "id": "view-in-github",
        "colab_type": "text"
      },
      "source": [
        "<a href=\"https://colab.research.google.com/github/hntdahta/first_colab/blob/main/btlaptrinhchap2.ipynb\" target=\"_parent\"><img src=\"https://colab.research.google.com/assets/colab-badge.svg\" alt=\"Open In Colab\"/></a>"
      ]
    },
    {
      "cell_type": "code",
      "metadata": {
        "id": "zxJ61LHDmcVm"
      },
      "source": [
        ""
      ],
      "execution_count": null,
      "outputs": []
    },
    {
      "cell_type": "markdown",
      "metadata": {
        "id": "sMJ5KoiBMARd"
      },
      "source": [
        "**BÀI TẬP LẬP TRÌNH CHƯƠNG 2**\n",
        "\n",
        "Bài 1: Lập trình nhập vào từ bàn phím 2 số nguyên và tính:\n",
        "\n",
        "\n",
        "1.   Tổng của 2 số\n",
        "2.   Tích của 2 số\n",
        "3.   Hiệu của 2 số\n",
        "4.   Phép chia lấy phần dư của 2 số\n",
        "5.   Phép chia lấy phần nguyên của 2 số\n",
        "\n",
        "Kết quả xuất ra màn hình\n",
        "\n"
      ]
    },
    {
      "cell_type": "code",
      "metadata": {
        "id": "Os5z0wPpL1Nk",
        "colab": {
          "base_uri": "https://localhost:8080/"
        },
        "outputId": "6361ede0-718d-4b31-9872-9f80d47eab8f"
      },
      "source": [
        "a= int(input('a = '))\n",
        "b= int(input('b = '))\n",
        "c=a+b\n",
        "print('a + b =', c)\n"
      ],
      "execution_count": 3,
      "outputs": [
        {
          "output_type": "stream",
          "text": [
            "a = 12\n",
            "b = 11\n",
            "a + b = 23\n"
          ],
          "name": "stdout"
        }
      ]
    },
    {
      "cell_type": "markdown",
      "metadata": {
        "id": "j2suJwVPM5Zk"
      },
      "source": [
        "Bài 2: Lập trình nhập vào từ bàn phím 2 số thực và tính:\n",
        "\n",
        "1.   Tổng của 2 số\n",
        "2.   Tích của 2 số\n",
        "3.   Hiệu của 2 số\n",
        "4.   Thương của 2 số\n",
        "\n",
        "Kết quả xuất ra màn hình"
      ]
    },
    {
      "cell_type": "code",
      "metadata": {
        "id": "fmlD-ggRMh9q",
        "colab": {
          "base_uri": "https://localhost:8080/"
        },
        "outputId": "d24d1d84-3eaa-4ae4-9284-17212f10b9bf"
      },
      "source": [
        "a =float(input('a = '))\n",
        "b= float(input('b = '))\n",
        "sum = a + b\n",
        "tich = a * b\n",
        "hieu = a - b\n",
        "thuong = a / b\n",
        "print('Tong cua ',a,'+',b,'=',tong)\n",
        "print('Tich cua ',a,'*',b,'=',tich)\n",
        "print('Hieu cua ',a,'-',b,'=',hieu)\n",
        "print('Thuong cua ',a,'/',b,'=',thuong)\n"
      ],
      "execution_count": 6,
      "outputs": [
        {
          "output_type": "stream",
          "text": [
            "a = 12\n",
            "b = 11\n",
            "Tong cua  12.0 + 11.0 = 23.0\n",
            "Tich cua  12.0 * 11.0 = 132.0\n",
            "Hieu cua  12.0 - 11.0 = 1.0\n",
            "Thuong cua  12.0 / 11.0 = 1.0909090909090908\n"
          ],
          "name": "stdout"
        }
      ]
    },
    {
      "cell_type": "markdown",
      "metadata": {
        "id": "sOCly6AvNUAN"
      },
      "source": [
        "Bài 3: (Sử dụng các hàm toán học) Nhập một số từ bàn phím và tính:\n",
        "\n",
        "\n",
        "\n",
        "1.   Trị tuyệt đối\n",
        "2.   Lấy phần nguyên của số\n",
        "3.   Chuyển đổi thành số thực\n",
        "4.   (nhập thêm 1 số từ bàn phím) và tính lũy thừa $ x^y $\n",
        "5.   Tính căn bậc hai\n",
        "\n",
        "Kết quả xuất ra màn hình\n",
        "\n"
      ]
    },
    {
      "cell_type": "code",
      "metadata": {
        "id": "XNKN4yAoOUAa"
      },
      "source": [
        "import math\n",
        "x = float(input('Nhap x :'))\n",
        "print('1. Tri tuyet doi cua x :', x ,'=', abs(x))\n",
        "print('2. Phan nguyen cua x :', x ,'=', int(x))\n",
        "print('3. So thuc cua x :', x ,'=', float(x))\n",
        "y = int(input('Nhap y :'))\n",
        "print('4. Luy thua cua x^y :', x ,'^',y,'=', pow(x,y))\n",
        "print('5. Can bac 2 cua x :', x ,'=', math.sqrt(x))\n"
      ],
      "execution_count": null,
      "outputs": []
    },
    {
      "cell_type": "markdown",
      "metadata": {
        "id": "79zQGrU5Od-d"
      },
      "source": [
        "Bài 4: Nhập 2 số từ bàn phím và thực hiện các phép so sánh sau giữa 2 số:\n",
        "\n",
        "\n",
        "\n",
        "1.   $ \\geq $\n",
        "2.   $ \\leq $\n",
        "3.   $ > $\n",
        "4.   $ < $\n",
        "5.   $ \\neq $\n",
        "\n",
        "Kết quả xuất ra màn hình\n"
      ]
    },
    {
      "cell_type": "code",
      "metadata": {
        "id": "qePknJEaP1tL",
        "colab": {
          "base_uri": "https://localhost:8080/"
        },
        "outputId": "d75fcd05-45c8-4c2e-fbc0-6080a8d7f296"
      },
      "source": [
        "x = float(input('Nhap x :'))\n",
        "y = float(input('Nhap y :'))\n",
        "if x >= y:\n",
        "  print(x,'>=',y)\n",
        "else:\n",
        "  print(x,'<=',y)\n",
        "if x > y:\n",
        "  print(x,'>',y)\n",
        "else:\n",
        "  print(x,'<',y)\n",
        "if x != y:\n",
        "  print(x,'≠',y)\n",
        "else:\n",
        "  print(x,'=',y)"
      ],
      "execution_count": 7,
      "outputs": [
        {
          "output_type": "stream",
          "text": [
            "Nhap x :5\n",
            "Nhap y :4\n",
            "5.0 >= 4.0\n",
            "5.0 > 4.0\n",
            "5.0 ≠ 4.0\n"
          ],
          "name": "stdout"
        }
      ]
    },
    {
      "cell_type": "markdown",
      "metadata": {
        "id": "90lU8sTXP4hu"
      },
      "source": [
        "Bài 5: Nhập 1 chuỗi ký tự từ bàn phím:\n",
        "\n",
        "\n",
        "\n",
        "1.   Chuyển thành chuỗi in hoa\n",
        "2.   Chuyển thành chuỗi in thường\n",
        "\n",
        "Kết quả xuất ra màn hình\n",
        "\n",
        "\n",
        "\n"
      ]
    },
    {
      "cell_type": "code",
      "metadata": {
        "id": "PWIIssukQXja",
        "colab": {
          "base_uri": "https://localhost:8080/"
        },
        "outputId": "505bb2f3-3cfe-40e9-87c4-4aa8a97aa696"
      },
      "source": [
        "str = input('Nhap mot chuoi :')\n",
        "print('1. CHUYEN CHUOI THANH CHU HOA :')\n",
        "print (str.upper())\n",
        "print('2. chuyen chuoi thanh chu thuong :')\n",
        "print (str.lower())\n",
        "\n",
        "\n"
      ],
      "execution_count": 8,
      "outputs": [
        {
          "output_type": "stream",
          "text": [
            "Nhap mot chuoi :chu hoa\n",
            "1. CHUYEN CHUOI THANH CHU HOA :\n",
            "CHU HOA\n",
            "2. chuyen chuoi thanh chu thuong :\n",
            "chu hoa\n"
          ],
          "name": "stdout"
        }
      ]
    },
    {
      "cell_type": "markdown",
      "metadata": {
        "id": "gv9n9-gMQZ7O"
      },
      "source": [
        "Bài 6: Xuất ra màn hình 1 chuỗi ký từ nằm trên nhiều hàng (có thể là 1 bài thơ tùy ý bạn lựa chọn)"
      ]
    },
    {
      "cell_type": "code",
      "metadata": {
        "id": "ZcjBCkQOQoS0",
        "colab": {
          "base_uri": "https://localhost:8080/"
        },
        "outputId": "b127b237-91b7-419e-cfda-5807126243f8"
      },
      "source": [
        "print('Có những phút làm nên lịch sử\\nCó cái chết hoá thành bất tử\\nCó những lời hơn mọi bài ca\\nCó con người từ chân lý sinh ra.')\n",
        "\n",
        "\n",
        "\n"
      ],
      "execution_count": 9,
      "outputs": [
        {
          "output_type": "stream",
          "text": [
            "Có những phút làm nên lịch sử\n",
            "Có cái chết hoá thành bất tử\n",
            "Có những lời hơn mọi bài ca\n",
            "Có con người từ chân lý sinh ra.\n"
          ],
          "name": "stdout"
        }
      ]
    }
  ]
}