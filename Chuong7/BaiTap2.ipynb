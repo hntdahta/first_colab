{
  "nbformat": 4,
  "nbformat_minor": 0,
  "metadata": {
    "colab": {
      "name": "BaiTap1.ipynb",
      "provenance": [],
      "authorship_tag": "ABX9TyM4kWsVaenTCKI3dlYpx5qY",
      "include_colab_link": true
    },
    "kernelspec": {
      "name": "python3",
      "display_name": "Python 3"
    }
  },
  "cells": [
    {
      "cell_type": "markdown",
      "metadata": {
        "id": "view-in-github",
        "colab_type": "text"
      },
      "source": [
        "<a href=\"https://colab.research.google.com/github/hntdahta/first_colab/blob/main/Chuong7/BaiTap2.ipynb\" target=\"_parent\"><img src=\"https://colab.research.google.com/assets/colab-badge.svg\" alt=\"Open In Colab\"/></a>"
      ]
    },
    {
      "cell_type": "code",
      "metadata": {
        "id": "RNO4BVcqrz0s"
      },
      "source": [
        "class Car:\r\n",
        "  color = 'trắng'\r\n",
        "\r\n",
        "  def __init__(self, name, engine):\r\n",
        "    self.name = name\r\n",
        "    self.engine = engine\r\n",
        "  \r\n",
        "  def setColor(self, color):\r\n",
        "    self.color = color\r\n",
        "  \r\n",
        "  def setEngine(self, engine):\r\n",
        "    self.engine = engine\r\n",
        "  \r\n",
        "  def setName(self, name):\r\n",
        "    self.name = name\r\n",
        "  \r\n",
        "  def getEngine(self):\r\n",
        "    return self.engine\r\n",
        "  \r\n",
        "  def toString(self):\r\n",
        "    s = 'Xe {} có màu {} và động cơ {} mã lực'.format(self.name, self.color, self.engine)\r\n",
        "    return(s)"
      ],
      "execution_count": 21,
      "outputs": []
    },
    {
      "cell_type": "code",
      "metadata": {
        "colab": {
          "base_uri": "https://localhost:8080/"
        },
        "id": "RSmKhaMpv9AB",
        "outputId": "b5023ff9-9547-40fc-9319-28770b8270be"
      },
      "source": [
        "\r\n",
        "lamborghini = Car('Lamborghini Aventador', 770)\r\n",
        "print(lamborghini.toString())"
      ],
      "execution_count": 22,
      "outputs": [
        {
          "output_type": "stream",
          "text": [
            "Xe Lamborghini Aventador có màu trắng và động cơ 770 mã lực\n"
          ],
          "name": "stdout"
        }
      ]
    },
    {
      "cell_type": "code",
      "metadata": {
        "colab": {
          "base_uri": "https://localhost:8080/"
        },
        "id": "zIFTx_oLwASL",
        "outputId": "17dec1e1-2ab7-4170-d390-e81d4fcfefab"
      },
      "source": [
        "lamborghini.setColor(\"đen\")\r\n",
        "print(lamborghini.toString())"
      ],
      "execution_count": 23,
      "outputs": [
        {
          "output_type": "stream",
          "text": [
            "Xe Lamborghini Aventador có màu đen và động cơ 770 mã lực\n"
          ],
          "name": "stdout"
        }
      ]
    },
    {
      "cell_type": "code",
      "metadata": {
        "colab": {
          "base_uri": "https://localhost:8080/"
        },
        "id": "OXhTBTaEwCe8",
        "outputId": "2a366083-f774-424e-f09a-df312fe57992"
      },
      "source": [
        "\r\n",
        "class Truck(Car):\r\n",
        "  def __init__(self, name, engine, power):\r\n",
        "    super().__init__(name, engine)\r\n",
        "    self.power = power\r\n",
        "  \r\n",
        "  def __str__(self):\r\n",
        "    s = 'Xe tải {} có màu {} ,động cơ {} mã lực, công suất kéo {}'.format(self.name, self.color, self.engine,self.power)\r\n",
        "    return(s)\r\n",
        "\r\n",
        "truck = Truck(\"Suzuki\",101,1000)\r\n",
        "print(truck)"
      ],
      "execution_count": 29,
      "outputs": [
        {
          "output_type": "stream",
          "text": [
            "Xe tải Suzuki có màu trắng ,động cơ 101 mã lực, công suất kéo 1000\n"
          ],
          "name": "stdout"
        }
      ]
    }
  ]
}