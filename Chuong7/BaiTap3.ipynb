{
  "nbformat": 4,
  "nbformat_minor": 0,
  "metadata": {
    "colab": {
      "name": "BaiTap1.ipynb",
      "provenance": [],
      "authorship_tag": "ABX9TyPX+maXPRRka8Me+aatncph",
      "include_colab_link": true
    },
    "kernelspec": {
      "name": "python3",
      "display_name": "Python 3"
    }
  },
  "cells": [
    {
      "cell_type": "markdown",
      "metadata": {
        "id": "view-in-github",
        "colab_type": "text"
      },
      "source": [
        "<a href=\"https://colab.research.google.com/github/hntdahta/first_colab/blob/main/Chuong7/BaiTap3.ipynb\" target=\"_parent\"><img src=\"https://colab.research.google.com/assets/colab-badge.svg\" alt=\"Open In Colab\"/></a>"
      ]
    },
    {
      "cell_type": "code",
      "metadata": {
        "id": "yRsjIBtt0W0S"
      },
      "source": [
        "class Car:\r\n",
        "  # color = 'white'\r\n",
        "\r\n",
        "  def __init__(self, name, color, engine):\r\n",
        "    self.name = name\r\n",
        "    self.color =color\r\n",
        "    self.engine = engine\r\n",
        "  \r\n",
        "  # def setColor(self, color):\r\n",
        "  #   self.color = color\r\n",
        "  \r\n",
        "  # def setEngine(self, engine):\r\n",
        "  #   self.engine = engine\r\n",
        "  \r\n",
        "  # def setName(self, name):\r\n",
        "  #   self.name = name\r\n",
        "  \r\n",
        "  # def getEngine(self):\r\n",
        "  #   return self.engine\r\n",
        "  \r\n",
        "  def toString(self):\r\n",
        "    s = 'Xe {} có màu {} và động cơ {} mã lực'.format(self.name, self.color, self.engine)\r\n",
        "    return(s)\r\n",
        "  def key_start(self):\r\n",
        "    print ('{} khởi động bằng khóa điện tử'.format(self.name))\r\n"
      ],
      "execution_count": 13,
      "outputs": []
    },
    {
      "cell_type": "code",
      "metadata": {
        "id": "a39jCnN11aJ8",
        "outputId": "3e368ee6-5308-4dd1-e021-6910aee48366",
        "colab": {
          "base_uri": "https://localhost:8080/"
        }
      },
      "source": [
        "\r\n",
        "lamborghini = Car('Lamborghini Aventador','đen',770)\r\n",
        "print(lamborghini.toString())\r\n",
        "lamborghini.key_start()"
      ],
      "execution_count": 14,
      "outputs": [
        {
          "output_type": "stream",
          "text": [
            "Xe Lamborghini Aventador có màu đen và động cơ 770 mã lực\n",
            "Lamborghini Aventador khởi động bằng khóa điện tử\n"
          ],
          "name": "stdout"
        }
      ]
    },
    {
      "cell_type": "code",
      "metadata": {
        "id": "PmDooEhP1lRq"
      },
      "source": [
        "class Truck(Car):\r\n",
        "  def __init__(self, name, color, engine, power):\r\n",
        "    super().__init__(name, color, engine)\r\n",
        "    self.power = power\r\n",
        "  \r\n",
        "  def __str__(self):\r\n",
        "     return 'Xe tải {} có màu {} ,động cơ {} mã lực, công suất kéo {}'.format(self.name, self.color, self.engine,self.power)\r\n",
        "  def key_start(self):\r\n",
        "    print ('{} khởi động bằng khóa cơ'.format(self.name))"
      ],
      "execution_count": 11,
      "outputs": []
    },
    {
      "cell_type": "code",
      "metadata": {
        "id": "hP30TVsP1w2a",
        "outputId": "cec8505d-eeb2-4686-cb72-0ae44d9391e4",
        "colab": {
          "base_uri": "https://localhost:8080/"
        }
      },
      "source": [
        "xetai = Truck(\"Suzuki\",\"trắng\",101.1,10000)\r\n",
        "print(xetai)\r\n",
        "xetai.key_start()"
      ],
      "execution_count": 12,
      "outputs": [
        {
          "output_type": "stream",
          "text": [
            "Xe tải Suzuki có màu trắng ,động cơ 101.1 mã lực, công suất kéo 10000\n",
            "Suzuki khởi động bằng khóa cơ\n"
          ],
          "name": "stdout"
        }
      ]
    }
  ]
}