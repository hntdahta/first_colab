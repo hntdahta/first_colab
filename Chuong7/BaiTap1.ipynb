{
  "nbformat": 4,
  "nbformat_minor": 0,
  "metadata": {
    "colab": {
      "name": "BaiTap1.ipynb",
      "provenance": [],
      "authorship_tag": "ABX9TyPrfi9+7HYpWSGQepUvTLO/",
      "include_colab_link": true
    },
    "kernelspec": {
      "name": "python3",
      "display_name": "Python 3"
    }
  },
  "cells": [
    {
      "cell_type": "markdown",
      "metadata": {
        "id": "view-in-github",
        "colab_type": "text"
      },
      "source": [
        "<a href=\"https://colab.research.google.com/github/hntdahta/first_colab/blob/main/Chuong7/BaiTap1.ipynb\" target=\"_parent\"><img src=\"https://colab.research.google.com/assets/colab-badge.svg\" alt=\"Open In Colab\"/></a>"
      ]
    },
    {
      "cell_type": "code",
      "metadata": {
        "id": "yRsjIBtt0W0S"
      },
      "source": [
        "class Car:\r\n",
        "  color = 'trắng'\r\n",
        "\r\n",
        "  def __init__(self, name, engine):\r\n",
        "    self.name = name\r\n",
        "    self.engine = engine\r\n",
        "  \r\n",
        "  def setColor(self, color):\r\n",
        "    self.color = color\r\n",
        "  \r\n",
        "  def setEngine(self, engine):\r\n",
        "    self.engine = engine\r\n",
        "  \r\n",
        "  def setName(self, name):\r\n",
        "    self.name = name\r\n",
        "  \r\n",
        "  def getEngine(self):\r\n",
        "    return self.engine\r\n",
        "  \r\n",
        "  def toString(self):\r\n",
        "    s = 'Xe {} có màu {} và động cơ {} mã lực'.format(self.name, self.color, self.engine)\r\n",
        "    return(s)"
      ],
      "execution_count": 1,
      "outputs": []
    },
    {
      "cell_type": "code",
      "metadata": {
        "id": "_tNf49rG0d3K",
        "outputId": "df233ab7-296c-45f8-a234-18351fc83cbf",
        "colab": {
          "base_uri": "https://localhost:8080/"
        }
      },
      "source": [
        "lamborghini = Car('Lamborghini Aventador',770)\r\n",
        "print(lamborghini.toString())\r\n",
        "\r\n",
        "lamborghini.setColor(\"đen\")\r\n",
        "print(lamborghini.toString())"
      ],
      "execution_count": 3,
      "outputs": [
        {
          "output_type": "stream",
          "text": [
            "Xe Lamborghini Aventador có màu trắng và động cơ 770 mã lực\n",
            "Xe Lamborghini Aventador có màu đen và động cơ 770 mã lực\n"
          ],
          "name": "stdout"
        }
      ]
    }
  ]
}