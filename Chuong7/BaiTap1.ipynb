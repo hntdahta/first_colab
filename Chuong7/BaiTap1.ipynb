{
  "nbformat": 4,
  "nbformat_minor": 0,
  "metadata": {
    "colab": {
      "name": "BaiTap1.ipynb",
      "provenance": [],
      "authorship_tag": "ABX9TyPPh+TWxvqNGysiJdwuYTPv",
      "include_colab_link": true
    },
    "kernelspec": {
      "name": "python3",
      "display_name": "Python 3"
    }
  },
  "cells": [
    {
      "cell_type": "markdown",
      "metadata": {
        "id": "view-in-github",
        "colab_type": "text"
      },
      "source": [
        "<a href=\"https://colab.research.google.com/github/hntdahta/first_colab/blob/main/Chuong7/BaiTap1.ipynb\" target=\"_parent\"><img src=\"https://colab.research.google.com/assets/colab-badge.svg\" alt=\"Open In Colab\"/></a>"
      ]
    },
    {
      "cell_type": "code",
      "metadata": {
        "colab": {
          "base_uri": "https://localhost:8080/"
        },
        "id": "RNO4BVcqrz0s",
        "outputId": "9e73511e-c6fd-4afe-a1c3-fc63fe486f9f"
      },
      "source": [
        "class Car:\r\n",
        "  # color = 'white'\r\n",
        "\r\n",
        "  def __init__(self, name, color, engine):\r\n",
        "    self.name = name\r\n",
        "    self.color =color\r\n",
        "    self.engine = engine \r\n",
        "  def toString(self):\r\n",
        "    s = 'Xe {} có màu {} và động cơ {} mã lực'.format(self.name, self.color, self.engine)\r\n",
        "    return(s)\r\n",
        "  def key_start(self):\r\n",
        "    print ('{} khởi động bằng khóa điện tử'.format(self.name))\r\n",
        "\r\n",
        "lambogini = Car('Lamborghini Aventador','đen',770)\r\n",
        "print(lambogini.toString())\r\n",
        "lambogini.key_start()"
      ],
      "execution_count": 5,
      "outputs": [
        {
          "output_type": "stream",
          "text": [
            "Xe Lamborghini Aventador có màu đen và động cơ 770 mã lực\n",
            "Lamborghini Aventador khởi động bằng khóa điện tử\n"
          ],
          "name": "stdout"
        }
      ]
    }
  ]
}