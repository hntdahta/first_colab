{
  "nbformat": 4,
  "nbformat_minor": 0,
  "metadata": {
    "colab": {
      "name": "Untitled0.ipynb",
      "provenance": [],
      "collapsed_sections": [],
      "authorship_tag": "ABX9TyPR+woEbg5gohykrrlB7TPA",
      "include_colab_link": true
    },
    "kernelspec": {
      "name": "python3",
      "display_name": "Python 3"
    }
  },
  "cells": [
    {
      "cell_type": "markdown",
      "metadata": {
        "id": "view-in-github",
        "colab_type": "text"
      },
      "source": [
        "<a href=\"https://colab.research.google.com/github/hntdahta/first_colab/blob/main/Untitled0.ipynb\" target=\"_parent\"><img src=\"https://colab.research.google.com/assets/colab-badge.svg\" alt=\"Open In Colab\"/></a>"
      ]
    },
    {
      "cell_type": "code",
      "metadata": {
        "colab": {
          "base_uri": "https://localhost:8080/"
        },
        "id": "Cxy6Xg1DYl1C",
        "outputId": "008f5999-b16e-4a12-b8cd-d19bbb0ad739"
      },
      "source": [
        "x = []\r\n",
        "x.insert(0, 18)\r\n",
        "x.insert(1, \"Huế\")\r\n",
        "y = [12, 45, -1, -0.56, \"abc\"]\r\n",
        "x.extend(y)\r\n",
        "print (x)\r\n",
        "print (x[-1], x[0])\r\n",
        "print (x[0:5])\r\n",
        "print (x[3:])"
      ],
      "execution_count": null,
      "outputs": [
        {
          "output_type": "stream",
          "text": [
            "[18, 'Huế', 12, 45, -1, -0.56, 'abc']\n",
            "abc 18\n",
            "[18, 'Huế', 12, 45]\n",
            "[12, 45, -1, -0.56, 'abc']\n"
          ],
          "name": "stdout"
        }
      ]
    },
    {
      "cell_type": "code",
      "metadata": {
        "id": "1_LIgfjDZk5m"
      },
      "source": [
        ""
      ],
      "execution_count": null,
      "outputs": []
    }
  ]
}
